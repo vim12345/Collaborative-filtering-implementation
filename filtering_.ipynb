{
  "nbformat": 4,
  "nbformat_minor": 0,
  "metadata": {
    "colab": {
      "provenance": []
    },
    "kernelspec": {
      "name": "python3",
      "display_name": "Python 3"
    },
    "language_info": {
      "name": "python"
    }
  },
  "cells": [
    {
      "cell_type": "markdown",
      "source": [
        "# 🧪 Python Implementation (User-Based Collaborative Filtering):"
      ],
      "metadata": {
        "id": "vHO6Lt63gIev"
      }
    },
    {
      "cell_type": "code",
      "execution_count": 1,
      "metadata": {
        "id": "tat5iC8VgAvI"
      },
      "outputs": [],
      "source": [
        "import numpy as np\n",
        "import pandas as pd\n",
        "from sklearn.metrics.pairwise import cosine_similarity"
      ]
    },
    {
      "cell_type": "code",
      "source": [
        "# 1. Simulate user-item ratings (random data)\n",
        "np.random.seed(42)\n",
        "users = ['User1', 'User2', 'User3', 'User4', 'User5']\n",
        "items = ['Item1', 'Item2', 'Item3', 'Item4', 'Item5']\n",
        "ratings = np.random.randint(1, 6, size=(5, 5))  # Random ratings between 1 and 5\n",
        "\n",
        "# Create DataFrame\n",
        "df = pd.DataFrame(ratings, index=users, columns=items)\n",
        "print(\"Ratings Matrix:\\n\", df)"
      ],
      "metadata": {
        "colab": {
          "base_uri": "https://localhost:8080/"
        },
        "id": "scCZAvcNgLzO",
        "outputId": "538cf763-e1c7-497b-fb7d-f627d10444b6"
      },
      "execution_count": 2,
      "outputs": [
        {
          "output_type": "stream",
          "name": "stdout",
          "text": [
            "Ratings Matrix:\n",
            "        Item1  Item2  Item3  Item4  Item5\n",
            "User1      4      5      3      5      5\n",
            "User2      2      3      3      3      5\n",
            "User3      4      3      5      2      4\n",
            "User4      2      4      5      1      4\n",
            "User5      2      5      4      1      1\n"
          ]
        }
      ]
    },
    {
      "cell_type": "code",
      "source": [
        "# 2. Calculate cosine similarity between users\n",
        "user_similarity = cosine_similarity(df)\n",
        "user_similarity_df = pd.DataFrame(user_similarity, index=users, columns=users)\n",
        ""
      ],
      "metadata": {
        "id": "czcixa1ugL2X"
      },
      "execution_count": 3,
      "outputs": []
    },
    {
      "cell_type": "code",
      "source": [
        "\n",
        "# 3. Recommend items for User1 based on similarity\n",
        "user1_ratings = df.loc['User1']\n",
        "similar_users = user_similarity_df['User1'].sort_values(ascending=False).index[1:]  # Exclude User1 itself"
      ],
      "metadata": {
        "id": "hwx78ur0gL5p"
      },
      "execution_count": 4,
      "outputs": []
    },
    {
      "cell_type": "code",
      "source": [
        "# Get weighted ratings from similar users\n",
        "recommendations = []\n",
        "for item in df.columns:\n",
        "    weighted_sum = 0\n",
        "    total_similarity = 0\n",
        "    for user in similar_users:\n",
        "        if pd.notna(df.loc[user, item]):\n",
        "            weighted_sum += user_similarity_df.loc['User1', user] * df.loc[user, item]\n",
        "            total_similarity += user_similarity_df.loc['User1', user]\n",
        "    if total_similarity > 0:\n",
        "        recommendations.append((item, weighted_sum / total_similarity))\n",
        "    else:\n",
        "        recommendations.append((item, 0))\n",
        "\n",
        "recommendations = sorted(recommendations, key=lambda x: x[1], reverse=True)\n",
        "print(\"\\nRecommendations for User1:\")\n",
        "for item, score in recommendations:\n",
        "    print(f\"{item}: {score:.2f}\")"
      ],
      "metadata": {
        "colab": {
          "base_uri": "https://localhost:8080/"
        },
        "id": "6EyzuSRqgL-H",
        "outputId": "6b9c215a-8b77-4234-b61e-7b678ab16621"
      },
      "execution_count": 5,
      "outputs": [
        {
          "output_type": "stream",
          "name": "stdout",
          "text": [
            "\n",
            "Recommendations for User1:\n",
            "Item3: 4.23\n",
            "Item2: 3.70\n",
            "Item5: 3.59\n",
            "Item1: 2.51\n",
            "Item4: 1.80\n"
          ]
        }
      ]
    },
    {
      "cell_type": "code",
      "source": [],
      "metadata": {
        "id": "GktGGe57gMBG"
      },
      "execution_count": null,
      "outputs": []
    },
    {
      "cell_type": "code",
      "source": [],
      "metadata": {
        "id": "FQw_q6YggMEH"
      },
      "execution_count": null,
      "outputs": []
    }
  ]
}